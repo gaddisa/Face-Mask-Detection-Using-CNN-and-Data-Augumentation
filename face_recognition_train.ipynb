{
 "cells": [
  {
   "cell_type": "code",
   "execution_count": 1,
   "metadata": {},
   "outputs": [],
   "source": [
    "import os\n",
    "import cv2\n",
    "import numpy as np\n",
    "from tensorflow.keras.utils import to_categorical\n",
    "from sklearn.preprocessing import LabelBinarizer\n",
    "from sklearn.model_selection import train_test_split\n",
    "from keras.models import Sequential\n",
    "from keras.layers import Dense,Activation,Flatten,Dropout\n",
    "from keras.layers import Conv2D,MaxPooling2D"
   ]
  },
  {
   "cell_type": "code",
   "execution_count": 2,
   "metadata": {},
   "outputs": [
    {
     "name": "stdout",
     "output_type": "stream",
     "text": [
      "['without_mask', 'with_mask']\n"
     ]
    }
   ],
   "source": [
    "#setting directory path for dataset\n",
    "Dataset = \"data\"\n",
    "Data_dir = os.listdir(Dataset)\n",
    "print(Data_dir)"
   ]
  },
  {
   "cell_type": "code",
   "execution_count": 3,
   "metadata": {},
   "outputs": [],
   "source": [
    "#data preprocessing\n",
    "img_rows,img_cols = 112,112\n",
    "\n",
    "images = []\n",
    "labels = [] \n",
    "\n",
    "for category in Data_dir:\n",
    "  folder_path = os.path.join(Dataset,category)\n",
    "  for img in os.listdir(folder_path):\n",
    "    img_path = os.path.join(folder_path,img)\n",
    "    img = cv2.imread(img_path)\n",
    "\n",
    "    try:\n",
    "      #converting image into gray scale\n",
    "      grayscale_img = cv2.cvtColor(img,cv2.COLOR_BGR2GRAY)\n",
    "\n",
    "      #resizing gray scaled image into size 56x56\n",
    "      resized_img =  cv2.resize(grayscale_img,(img_rows,img_cols))\n",
    "      images.append(resized_img)\n",
    "      labels.append(category)\n",
    "    #Exception Handling\n",
    "    except Exception as e:\n",
    "      print(\"Exception Details : \" + e)\n",
    "images = np.array(images) /255.0\n",
    "images = np.reshape(images,(images.shape[0],img_rows,img_cols,1))\n",
    "\n",
    "#performing one hot encoding\n",
    "lb = LabelBinarizer() \n",
    "labels = lb.fit_transform(labels)\n",
    "labels = to_categorical(labels)\n",
    "labels = np.array(labels)\n",
    "\n",
    "(train_X,test_X,train_y,test_y) = train_test_split(images,labels,test_size = 0.25,random_state= 0)"
   ]
  },
  {
   "cell_type": "code",
   "execution_count": 4,
   "metadata": {},
   "outputs": [
    {
     "name": "stdout",
     "output_type": "stream",
     "text": [
      "Model: \"sequential\"\n",
      "_________________________________________________________________\n",
      "Layer (type)                 Output Shape              Param #   \n",
      "=================================================================\n",
      "conv2d (Conv2D)              (None, 110, 110, 64)      640       \n",
      "_________________________________________________________________\n",
      "activation (Activation)      (None, 110, 110, 64)      0         \n",
      "_________________________________________________________________\n",
      "max_pooling2d (MaxPooling2D) (None, 55, 55, 64)        0         \n",
      "_________________________________________________________________\n",
      "conv2d_1 (Conv2D)            (None, 53, 53, 128)       73856     \n",
      "_________________________________________________________________\n",
      "activation_1 (Activation)    (None, 53, 53, 128)       0         \n",
      "_________________________________________________________________\n",
      "max_pooling2d_1 (MaxPooling2 (None, 26, 26, 128)       0         \n",
      "_________________________________________________________________\n",
      "flatten (Flatten)            (None, 86528)             0         \n",
      "_________________________________________________________________\n",
      "dropout (Dropout)            (None, 86528)             0         \n",
      "_________________________________________________________________\n",
      "dense (Dense)                (None, 64)                5537856   \n",
      "_________________________________________________________________\n",
      "dense_1 (Dense)              (None, 2)                 130       \n",
      "=================================================================\n",
      "Total params: 5,612,482\n",
      "Trainable params: 5,612,482\n",
      "Non-trainable params: 0\n",
      "_________________________________________________________________\n",
      "None\n"
     ]
    }
   ],
   "source": [
    "#Building CNN model via Sequential API\n",
    "num_classes = 2\n",
    "batch_size = 32\n",
    "model = Sequential()\n",
    "\n",
    "#First Layer\n",
    "model.add(Conv2D(64,(3,3), input_shape = (img_rows,img_cols,1)))\n",
    "model.add(Activation('relu'))\n",
    "model.add(MaxPooling2D(pool_size = (2,2)))\n",
    "\n",
    "#Second Layer\n",
    "model.add(Conv2D(128,(3,3)))\n",
    "model.add(Activation('relu'))\n",
    "model.add(MaxPooling2D(pool_size = (2,2)))\n",
    "\n",
    "#Flatten and Dropout Layer\n",
    "model.add(Flatten())\n",
    "model.add(Dropout(0.5))\n",
    "\n",
    "#Softmax Classifier\n",
    "model.add(Dense(64,activation = \"relu\"))\n",
    "model.add(Dense(num_classes,activation= \"softmax\"))\n",
    "\n",
    "print(model.summary())\n"
   ]
  },
  {
   "cell_type": "code",
   "execution_count": null,
   "metadata": {},
   "outputs": [
    {
     "name": "stdout",
     "output_type": "stream",
     "text": [
      "Epoch 1/50\n",
      "25/25 [==============================] - 23s 343ms/step - loss: 0.9786 - accuracy: 0.5088 - val_loss: 0.6873 - val_accuracy: 0.5853\n",
      "Epoch 2/50\n",
      "25/25 [==============================] - 8s 337ms/step - loss: 0.6768 - accuracy: 0.5610 - val_loss: 0.5792 - val_accuracy: 0.6860\n",
      "Epoch 3/50\n",
      "25/25 [==============================] - 9s 345ms/step - loss: 0.5980 - accuracy: 0.6505 - val_loss: 0.4688 - val_accuracy: 0.7984\n",
      "Epoch 4/50\n",
      "25/25 [==============================] - 9s 344ms/step - loss: 0.4364 - accuracy: 0.8069 - val_loss: 0.4100 - val_accuracy: 0.8295\n",
      "Epoch 5/50\n",
      "25/25 [==============================] - 9s 346ms/step - loss: 0.3475 - accuracy: 0.8490 - val_loss: 0.3096 - val_accuracy: 0.8760\n",
      "Epoch 6/50\n",
      "25/25 [==============================] - 9s 345ms/step - loss: 0.2446 - accuracy: 0.8923 - val_loss: 0.2728 - val_accuracy: 0.8682\n",
      "Epoch 7/50\n",
      "25/25 [==============================] - 9s 350ms/step - loss: 0.2075 - accuracy: 0.9291 - val_loss: 0.2049 - val_accuracy: 0.9264\n",
      "Epoch 8/50\n",
      "25/25 [==============================] - 9s 350ms/step - loss: 0.1591 - accuracy: 0.9441 - val_loss: 0.2183 - val_accuracy: 0.9070\n",
      "Epoch 9/50\n",
      "25/25 [==============================] - 9s 349ms/step - loss: 0.0893 - accuracy: 0.9841 - val_loss: 0.1872 - val_accuracy: 0.9302\n",
      "Epoch 10/50\n",
      "25/25 [==============================] - 9s 359ms/step - loss: 0.0753 - accuracy: 0.9795 - val_loss: 0.1833 - val_accuracy: 0.9264\n",
      "Epoch 11/50\n",
      "25/25 [==============================] - 9s 353ms/step - loss: 0.0707 - accuracy: 0.9720 - val_loss: 0.3872 - val_accuracy: 0.8760\n",
      "Epoch 12/50\n",
      "25/25 [==============================] - 9s 358ms/step - loss: 0.0961 - accuracy: 0.9683 - val_loss: 0.1628 - val_accuracy: 0.9341\n",
      "Epoch 13/50\n",
      "25/25 [==============================] - 9s 361ms/step - loss: 0.0491 - accuracy: 0.9901 - val_loss: 0.1656 - val_accuracy: 0.9302\n",
      "Epoch 14/50\n",
      "25/25 [==============================] - 9s 365ms/step - loss: 0.0314 - accuracy: 0.9943 - val_loss: 0.1289 - val_accuracy: 0.9496\n",
      "Epoch 15/50\n",
      "25/25 [==============================] - 9s 357ms/step - loss: 0.0180 - accuracy: 0.9969 - val_loss: 0.1413 - val_accuracy: 0.9535\n",
      "Epoch 16/50\n",
      "25/25 [==============================] - 9s 353ms/step - loss: 0.0156 - accuracy: 0.9975 - val_loss: 0.1523 - val_accuracy: 0.9496\n",
      "Epoch 17/50\n",
      "25/25 [==============================] - 9s 363ms/step - loss: 0.0170 - accuracy: 0.9980 - val_loss: 0.1815 - val_accuracy: 0.9419\n",
      "Epoch 18/50\n",
      "25/25 [==============================] - 9s 365ms/step - loss: 0.0149 - accuracy: 0.9966 - val_loss: 0.1345 - val_accuracy: 0.9419\n",
      "Epoch 19/50\n",
      "25/25 [==============================] - 9s 370ms/step - loss: 0.0168 - accuracy: 0.9971 - val_loss: 0.1852 - val_accuracy: 0.9225\n",
      "Epoch 20/50\n",
      "25/25 [==============================] - 9s 357ms/step - loss: 0.0281 - accuracy: 0.9911 - val_loss: 0.1543 - val_accuracy: 0.9496\n",
      "Epoch 21/50\n",
      "25/25 [==============================] - 9s 376ms/step - loss: 0.0106 - accuracy: 0.9995 - val_loss: 0.1573 - val_accuracy: 0.9535\n",
      "Epoch 22/50\n",
      "25/25 [==============================] - 9s 362ms/step - loss: 0.0125 - accuracy: 0.9949 - val_loss: 0.1534 - val_accuracy: 0.9574\n",
      "Epoch 23/50\n",
      "25/25 [==============================] - 9s 356ms/step - loss: 0.0129 - accuracy: 0.9966 - val_loss: 0.1897 - val_accuracy: 0.9457\n",
      "Epoch 24/50\n",
      "25/25 [==============================] - 9s 364ms/step - loss: 0.0194 - accuracy: 0.9941 - val_loss: 0.1529 - val_accuracy: 0.9535\n",
      "Epoch 25/50\n",
      "25/25 [==============================] - 9s 372ms/step - loss: 0.0070 - accuracy: 0.9991 - val_loss: 0.1456 - val_accuracy: 0.9535\n",
      "Epoch 26/50\n",
      "25/25 [==============================] - 9s 364ms/step - loss: 0.0055 - accuracy: 0.9993 - val_loss: 0.2473 - val_accuracy: 0.9380\n",
      "Epoch 27/50\n",
      "25/25 [==============================] - 9s 378ms/step - loss: 0.0101 - accuracy: 0.9970 - val_loss: 0.1999 - val_accuracy: 0.9380\n",
      "Epoch 28/50\n",
      "25/25 [==============================] - 10s 382ms/step - loss: 0.0146 - accuracy: 0.9937 - val_loss: 0.1557 - val_accuracy: 0.9574\n",
      "Epoch 29/50\n",
      "25/25 [==============================] - 9s 360ms/step - loss: 0.0084 - accuracy: 0.9976 - val_loss: 0.1407 - val_accuracy: 0.9690\n",
      "Epoch 30/50\n",
      "25/25 [==============================] - 9s 363ms/step - loss: 0.0052 - accuracy: 0.9995 - val_loss: 0.2511 - val_accuracy: 0.9341\n",
      "Epoch 31/50\n",
      "25/25 [==============================] - 9s 360ms/step - loss: 0.0056 - accuracy: 0.9997 - val_loss: 0.2013 - val_accuracy: 0.9574\n",
      "Epoch 32/50\n",
      "25/25 [==============================] - 9s 367ms/step - loss: 0.0030 - accuracy: 0.9998 - val_loss: 0.1812 - val_accuracy: 0.9457\n",
      "Epoch 33/50\n",
      "16/25 [==================>...........] - ETA: 3s - loss: 0.0081 - accuracy: 0.9985"
     ]
    }
   ],
   "source": [
    "\"\"\"\n",
    "**Train the Model**\"\"\"\n",
    "epochs = 50\n",
    "\n",
    "model.compile(loss= 'categorical_crossentropy',optimizer='adam',metrics=['accuracy'])\n",
    "fitted_model = model.fit(train_X,train_y,epochs = epochs,validation_split=0.25)\n"
   ]
  },
  {
   "cell_type": "code",
   "execution_count": null,
   "metadata": {},
   "outputs": [],
   "source": [
    "\"\"\"\n",
    "**Plot the training loss and accuracy**\n",
    "\"\"\"\n",
    "import matplotlib.pyplot as plt\n",
    "plt.plot(fitted_model.history['loss'],'r',label = \"Training  Loss\")\n",
    "plt.plot(fitted_model.history['val_loss'],label = \"Validation Loss\")\n",
    "plt.xlabel(\"# of Epochs\")\n",
    "plt.ylabel(\"Loss Value\")\n",
    "plt.legend()\n",
    "plt.show()\n",
    "\n",
    "#Plotting Accuracy\n",
    "plt.plot(fitted_model.history['accuracy'],'r',label = \"Training Accuracy\")\n",
    "plt.plot(fitted_model.history['val_accuracy'],label = \"Validation Accuracy\")\n",
    "plt.xlabel(\"# of Epochs\")\n",
    "plt.ylabel(\"Accuracy Value\")\n",
    "plt.legend()\n",
    "plt.show()"
   ]
  },
  {
   "cell_type": "code",
   "execution_count": null,
   "metadata": {},
   "outputs": [],
   "source": [
    "\"\"\"\n",
    "Save the model\n",
    "\"\"\"\n",
    "model.save(\"New_Face_Mask_Model.h5\")    "
   ]
  }
 ],
 "metadata": {
  "kernelspec": {
   "display_name": "Python 3",
   "language": "python",
   "name": "python3"
  },
  "language_info": {
   "codemirror_mode": {
    "name": "ipython",
    "version": 3
   },
   "file_extension": ".py",
   "mimetype": "text/x-python",
   "name": "python",
   "nbconvert_exporter": "python",
   "pygments_lexer": "ipython3",
   "version": "3.7.6"
  }
 },
 "nbformat": 4,
 "nbformat_minor": 4
}
