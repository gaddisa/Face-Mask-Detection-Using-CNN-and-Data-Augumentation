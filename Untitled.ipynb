{
 "cells": [
  {
   "cell_type": "code",
   "execution_count": 1,
   "metadata": {},
   "outputs": [],
   "source": [
    "from keras.models import load_model\n",
    "import numpy as np\n",
    "import cv2"
   ]
  },
  {
   "cell_type": "code",
   "execution_count": 3,
   "metadata": {},
   "outputs": [],
   "source": [
    "model = load_model('New_Face_Mask_Model.h5')\n",
    "\n",
    "face_cascade = cv2.CascadeClassifier('haarcascade_frontalface_default.xml')\n",
    "\n",
    "vid_source = cv2.VideoCapture(0)\n",
    "\n",
    "#Dictionaries containing detail of wearing mask as well as putting rectangle around face\n",
    "text_dict = {0:\"Mask ON\",1: \"No Mask\"}\n",
    "rect_color = {0:(0,255,0),1:(0,0,255)}\n",
    "\n",
    "Subject = \"Breach of Vistor Policy Detected\"\n",
    "Text =  \"Vistor without face mask detected. Check camerato recognize vistor\"\n",
    "\n",
    "while(True):\n",
    "    ret,img = vid_source.read()\n",
    "    img = np.array(img[:,::-1]) # cast as array\n",
    "    grayscale_img = cv2.cvtColor(img,cv2.COLOR_BGR2GRAY)\n",
    "    faces = face_cascade.detectMultiScale(grayscale_img,1.3,5)\n",
    "    for (x,y,w,h) in faces:\n",
    "        face_img = grayscale_img[y:y+w,x:x+w]\n",
    "        resized_img = cv2.resize(face_img,(112,112))\n",
    "        normal_png = resized_img/255.0\n",
    "        reshaped_img = np.reshape(normal_png,(1,112,112,1))\n",
    "        result = model.predict(reshaped_img)\n",
    "        label = np.argmax(result,axis = 1)[0]\n",
    "        cv2.rectangle(img,(x,y-40),(x+w,y),rect_color[label],-1)\n",
    "\n",
    "        cv2.rectangle(img,(x,y),(x+w,y+h),rect_color[label],2)\n",
    "        cv2.putText(img,text_dict[label],(x,y-10),cv2.FONT_HERSHEY_SIMPLEX,0.8,(0,0,0),2)\n",
    "        \n",
    "    cv2.imshow('Live Feed',img)\n",
    "    key = cv2.waitKey(1)\n",
    "    \n",
    "    if (key == 27):\n",
    "        break\n",
    "cv2.destroyAllWindows()\n",
    "vid_source.release()"
   ]
  },
  {
   "cell_type": "code",
   "execution_count": null,
   "metadata": {},
   "outputs": [],
   "source": []
  },
  {
   "cell_type": "code",
   "execution_count": null,
   "metadata": {},
   "outputs": [],
   "source": []
  }
 ],
 "metadata": {
  "kernelspec": {
   "display_name": "Python 3",
   "language": "python",
   "name": "python3"
  },
  "language_info": {
   "codemirror_mode": {
    "name": "ipython",
    "version": 3
   },
   "file_extension": ".py",
   "mimetype": "text/x-python",
   "name": "python",
   "nbconvert_exporter": "python",
   "pygments_lexer": "ipython3",
   "version": "3.7.6"
  }
 },
 "nbformat": 4,
 "nbformat_minor": 4
}
