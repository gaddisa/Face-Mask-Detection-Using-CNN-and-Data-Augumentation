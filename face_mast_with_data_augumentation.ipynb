{
 "cells": [
  {
   "cell_type": "code",
   "execution_count": 1,
   "metadata": {},
   "outputs": [],
   "source": [
    "\"\"\"\n",
    "CNN Execrise: facemask detection with data augumentation\n",
    "Display the accuracy of the model on the test data\n",
    "show the gg plot\n",
    "May 25, 2022\n",
    "@author: Gaddisa Olani\n",
    "\"\"\"\n"
   ]
  },
  {
   "cell_type": "code",
   "execution_count": null,
   "metadata": {},
   "outputs": [],
   "source": [
    "import os\n",
    "import cv2\n",
    "import numpy as np\n",
    "from tensorflow.keras.utils import to_categorical\n",
    "from sklearn.preprocessing import LabelBinarizer\n",
    "from sklearn.model_selection import train_test_split\n",
    "from keras.models import Sequential\n",
    "from keras.layers import Dense,Activation,Flatten,Dropout\n",
    "from keras.layers import Conv2D,MaxPooling2D\n",
    "from tensorflow.keras.preprocessing.image import ImageDataGenerator\n",
    "from sklearn.metrics import classification_report\n",
    "import matplotlib.pyplot as plt"
   ]
  },
  {
   "cell_type": "code",
   "execution_count": 2,
   "metadata": {},
   "outputs": [
    {
     "name": "stdout",
     "output_type": "stream",
     "text": [
      "['without_mask', 'with_mask']\n"
     ]
    }
   ],
   "source": [
    "#setting directory path for dataset\n",
    "Dataset = \"data\"\n",
    "Data_dir = os.listdir(Dataset)\n",
    "print(Data_dir)"
   ]
  },
  {
   "cell_type": "code",
   "execution_count": 3,
   "metadata": {},
   "outputs": [],
   "source": [
    "#data preprocessing\n",
    "img_rows,img_cols = 112,112\n",
    "\n",
    "images = []\n",
    "labels = [] \n",
    "\n",
    "for category in Data_dir:\n",
    "  folder_path = os.path.join(Dataset,category)\n",
    "  for img in os.listdir(folder_path):\n",
    "    img_path = os.path.join(folder_path,img)\n",
    "    img = cv2.imread(img_path)\n",
    "\n",
    "    try:\n",
    "      #converting image into gray scale\n",
    "      grayscale_img = cv2.cvtColor(img,cv2.COLOR_BGR2GRAY)\n",
    "\n",
    "      #resizing gray scaled image into size 56x56\n",
    "      resized_img =  cv2.resize(grayscale_img,(img_rows,img_cols))\n",
    "      images.append(resized_img)\n",
    "      labels.append(category)\n",
    "    #Exception Handling\n",
    "    except Exception as e:\n",
    "      print(\"Exception Details : \" + e)\n",
    "images = np.array(images) /255.0\n",
    "images = np.reshape(images,(images.shape[0],img_rows,img_cols,1))\n",
    "\n",
    "#performing one hot encoding\n",
    "lb = LabelBinarizer() \n",
    "labels = lb.fit_transform(labels)\n",
    "labels = to_categorical(labels)\n",
    "labels = np.array(labels)\n",
    "\n",
    "(train_X,test_X,train_y,test_y) = train_test_split(images,labels,test_size = 0.25,random_state= 0)"
   ]
  },
  {
   "cell_type": "code",
   "execution_count": 4,
   "metadata": {},
   "outputs": [],
   "source": [
    "# construct the training image generator for data augmentation\n",
    "aug = ImageDataGenerator(\n",
    "\trotation_range=20,\n",
    "\tzoom_range=0.15,\n",
    "\twidth_shift_range=0.2,\n",
    "\theight_shift_range=0.2,\n",
    "\tshear_range=0.15,\n",
    "\thorizontal_flip=True,\n",
    "\tfill_mode=\"nearest\")"
   ]
  },
  {
   "cell_type": "code",
   "execution_count": 5,
   "metadata": {},
   "outputs": [
    {
     "name": "stdout",
     "output_type": "stream",
     "text": [
      "Model: \"sequential\"\n",
      "_________________________________________________________________\n",
      "Layer (type)                 Output Shape              Param #   \n",
      "=================================================================\n",
      "conv2d (Conv2D)              (None, 110, 110, 64)      640       \n",
      "_________________________________________________________________\n",
      "activation (Activation)      (None, 110, 110, 64)      0         \n",
      "_________________________________________________________________\n",
      "max_pooling2d (MaxPooling2D) (None, 55, 55, 64)        0         \n",
      "_________________________________________________________________\n",
      "conv2d_1 (Conv2D)            (None, 53, 53, 128)       73856     \n",
      "_________________________________________________________________\n",
      "activation_1 (Activation)    (None, 53, 53, 128)       0         \n",
      "_________________________________________________________________\n",
      "max_pooling2d_1 (MaxPooling2 (None, 26, 26, 128)       0         \n",
      "_________________________________________________________________\n",
      "flatten (Flatten)            (None, 86528)             0         \n",
      "_________________________________________________________________\n",
      "dropout (Dropout)            (None, 86528)             0         \n",
      "_________________________________________________________________\n",
      "dense (Dense)                (None, 64)                5537856   \n",
      "_________________________________________________________________\n",
      "dense_1 (Dense)              (None, 2)                 130       \n",
      "=================================================================\n",
      "Total params: 5,612,482\n",
      "Trainable params: 5,612,482\n",
      "Non-trainable params: 0\n",
      "_________________________________________________________________\n",
      "None\n"
     ]
    }
   ],
   "source": [
    "#Building CNN model via Sequential API\n",
    "num_classes = 2\n",
    "batch_size = 32\n",
    "model = Sequential()\n",
    "\n",
    "#First Layer\n",
    "model.add(Conv2D(64,(3,3), input_shape = (img_rows,img_cols,1)))\n",
    "model.add(Activation('relu'))\n",
    "model.add(MaxPooling2D(pool_size = (2,2)))\n",
    "\n",
    "#Second Layer\n",
    "model.add(Conv2D(128,(3,3)))\n",
    "model.add(Activation('relu'))\n",
    "model.add(MaxPooling2D(pool_size = (2,2)))\n",
    "\n",
    "#Flatten and Dropout Layer\n",
    "model.add(Flatten())\n",
    "model.add(Dropout(0.5))\n",
    "\n",
    "#Softmax Classifier\n",
    "model.add(Dense(64,activation = \"relu\"))\n",
    "model.add(Dense(num_classes,activation= \"softmax\"))\n",
    "\n",
    "print(model.summary())\n"
   ]
  },
  {
   "cell_type": "code",
   "execution_count": 11,
   "metadata": {},
   "outputs": [
    {
     "name": "stdout",
     "output_type": "stream",
     "text": [
      "Epoch 1/50\n",
      "16/16 [==============================] - 12s 686ms/step - loss: 0.5898 - accuracy: 0.6887 - val_loss: 0.3384 - val_accuracy: 0.8876\n",
      "Epoch 2/50\n",
      "16/16 [==============================] - 10s 694ms/step - loss: 0.5096 - accuracy: 0.7714 - val_loss: 0.4530 - val_accuracy: 0.7791\n",
      "Epoch 3/50\n",
      "16/16 [==============================] - 11s 709ms/step - loss: 0.5259 - accuracy: 0.7558 - val_loss: 0.2723 - val_accuracy: 0.9186\n",
      "Epoch 4/50\n",
      "16/16 [==============================] - 11s 680ms/step - loss: 0.4756 - accuracy: 0.7977 - val_loss: 0.2598 - val_accuracy: 0.9264\n",
      "Epoch 5/50\n",
      "16/16 [==============================] - 11s 676ms/step - loss: 0.4239 - accuracy: 0.8054 - val_loss: 0.2587 - val_accuracy: 0.8915\n",
      "Epoch 6/50\n",
      "16/16 [==============================] - 11s 681ms/step - loss: 0.4333 - accuracy: 0.8066 - val_loss: 0.1917 - val_accuracy: 0.9341\n",
      "Epoch 7/50\n",
      "16/16 [==============================] - 11s 681ms/step - loss: 0.3654 - accuracy: 0.8597 - val_loss: 0.1884 - val_accuracy: 0.9264\n",
      "Epoch 8/50\n",
      "16/16 [==============================] - 12s 725ms/step - loss: 0.3903 - accuracy: 0.8471 - val_loss: 0.1959 - val_accuracy: 0.9264\n",
      "Epoch 9/50\n",
      "16/16 [==============================] - 12s 737ms/step - loss: 0.3289 - accuracy: 0.8779 - val_loss: 0.1876 - val_accuracy: 0.9225\n",
      "Epoch 10/50\n",
      "16/16 [==============================] - 11s 716ms/step - loss: 0.2839 - accuracy: 0.8765 - val_loss: 0.1798 - val_accuracy: 0.9186\n",
      "Epoch 11/50\n",
      "16/16 [==============================] - 11s 715ms/step - loss: 0.2992 - accuracy: 0.8752 - val_loss: 0.1199 - val_accuracy: 0.9574\n",
      "Epoch 12/50\n",
      "16/16 [==============================] - 12s 740ms/step - loss: 0.3456 - accuracy: 0.8538 - val_loss: 0.1341 - val_accuracy: 0.9457\n",
      "Epoch 13/50\n",
      "16/16 [==============================] - 11s 706ms/step - loss: 0.2937 - accuracy: 0.8774 - val_loss: 0.1758 - val_accuracy: 0.9341\n",
      "Epoch 14/50\n",
      "16/16 [==============================] - 11s 718ms/step - loss: 0.3099 - accuracy: 0.8783 - val_loss: 0.1788 - val_accuracy: 0.9380\n",
      "Epoch 15/50\n",
      "16/16 [==============================] - 12s 737ms/step - loss: 0.2603 - accuracy: 0.9001 - val_loss: 0.0916 - val_accuracy: 0.9612\n",
      "Epoch 16/50\n",
      "16/16 [==============================] - 11s 718ms/step - loss: 0.2345 - accuracy: 0.9051 - val_loss: 0.1090 - val_accuracy: 0.9574\n",
      "Epoch 17/50\n",
      "16/16 [==============================] - 11s 700ms/step - loss: 0.2892 - accuracy: 0.8813 - val_loss: 0.1814 - val_accuracy: 0.9380\n",
      "Epoch 18/50\n",
      "16/16 [==============================] - 12s 737ms/step - loss: 0.2652 - accuracy: 0.8921 - val_loss: 0.1394 - val_accuracy: 0.9457\n",
      "Epoch 19/50\n",
      "16/16 [==============================] - 11s 739ms/step - loss: 0.1994 - accuracy: 0.9291 - val_loss: 0.1125 - val_accuracy: 0.9574\n",
      "Epoch 20/50\n",
      "16/16 [==============================] - 11s 709ms/step - loss: 0.2420 - accuracy: 0.8954 - val_loss: 0.1509 - val_accuracy: 0.9419\n",
      "Epoch 21/50\n",
      "16/16 [==============================] - 12s 753ms/step - loss: 0.1845 - accuracy: 0.9288 - val_loss: 0.1235 - val_accuracy: 0.9535\n",
      "Epoch 22/50\n",
      "16/16 [==============================] - 12s 740ms/step - loss: 0.1990 - accuracy: 0.9208 - val_loss: 0.0753 - val_accuracy: 0.9729\n",
      "Epoch 23/50\n",
      "16/16 [==============================] - 12s 766ms/step - loss: 0.1774 - accuracy: 0.9206 - val_loss: 0.1664 - val_accuracy: 0.9341\n",
      "Epoch 24/50\n",
      "16/16 [==============================] - 14s 864ms/step - loss: 0.2259 - accuracy: 0.8896 - val_loss: 0.0928 - val_accuracy: 0.9690\n",
      "Epoch 25/50\n",
      "16/16 [==============================] - 13s 788ms/step - loss: 0.1795 - accuracy: 0.9344 - val_loss: 0.0640 - val_accuracy: 0.9729\n",
      "Epoch 26/50\n",
      "16/16 [==============================] - 12s 755ms/step - loss: 0.1726 - accuracy: 0.9394 - val_loss: 0.0907 - val_accuracy: 0.9729\n",
      "Epoch 27/50\n",
      "16/16 [==============================] - 12s 756ms/step - loss: 0.1841 - accuracy: 0.9311 - val_loss: 0.0657 - val_accuracy: 0.9767\n",
      "Epoch 28/50\n",
      "16/16 [==============================] - 12s 761ms/step - loss: 0.2105 - accuracy: 0.9183 - val_loss: 0.1084 - val_accuracy: 0.9690\n",
      "Epoch 29/50\n",
      "16/16 [==============================] - 13s 807ms/step - loss: 0.2113 - accuracy: 0.9167 - val_loss: 0.1122 - val_accuracy: 0.9690\n",
      "Epoch 30/50\n",
      "16/16 [==============================] - 12s 777ms/step - loss: 0.1712 - accuracy: 0.9429 - val_loss: 0.0442 - val_accuracy: 0.9845\n",
      "Epoch 31/50\n",
      "16/16 [==============================] - 13s 798ms/step - loss: 0.1961 - accuracy: 0.9206 - val_loss: 0.1386 - val_accuracy: 0.9341\n",
      "Epoch 32/50\n",
      "16/16 [==============================] - 14s 865ms/step - loss: 0.1860 - accuracy: 0.9329 - val_loss: 0.1254 - val_accuracy: 0.9457\n",
      "Epoch 33/50\n",
      "16/16 [==============================] - 13s 831ms/step - loss: 0.1954 - accuracy: 0.9473 - val_loss: 0.0460 - val_accuracy: 0.9845\n",
      "Epoch 34/50\n",
      "16/16 [==============================] - 12s 755ms/step - loss: 0.1430 - accuracy: 0.9475 - val_loss: 0.0901 - val_accuracy: 0.9612\n",
      "Epoch 35/50\n",
      "16/16 [==============================] - 14s 863ms/step - loss: 0.1689 - accuracy: 0.9338 - val_loss: 0.0364 - val_accuracy: 0.9884\n",
      "Epoch 36/50\n",
      "16/16 [==============================] - 13s 865ms/step - loss: 0.1683 - accuracy: 0.9284 - val_loss: 0.0527 - val_accuracy: 0.9845\n",
      "Epoch 37/50\n",
      "16/16 [==============================] - 13s 790ms/step - loss: 0.1462 - accuracy: 0.9510 - val_loss: 0.0338 - val_accuracy: 0.9922\n",
      "Epoch 38/50\n",
      "16/16 [==============================] - 12s 747ms/step - loss: 0.1627 - accuracy: 0.9389 - val_loss: 0.0563 - val_accuracy: 0.9806\n",
      "Epoch 39/50\n",
      "16/16 [==============================] - 12s 723ms/step - loss: 0.1735 - accuracy: 0.9229 - val_loss: 0.0822 - val_accuracy: 0.9651\n",
      "Epoch 40/50\n",
      "16/16 [==============================] - 12s 731ms/step - loss: 0.1697 - accuracy: 0.9405 - val_loss: 0.0461 - val_accuracy: 0.9767\n",
      "Epoch 41/50\n",
      "16/16 [==============================] - 11s 719ms/step - loss: 0.1699 - accuracy: 0.9331 - val_loss: 0.0360 - val_accuracy: 0.9845\n",
      "Epoch 42/50\n",
      "16/16 [==============================] - 12s 733ms/step - loss: 0.1545 - accuracy: 0.9470 - val_loss: 0.0329 - val_accuracy: 0.9884\n",
      "Epoch 43/50\n",
      "16/16 [==============================] - 12s 743ms/step - loss: 0.1525 - accuracy: 0.9383 - val_loss: 0.0248 - val_accuracy: 1.0000\n",
      "Epoch 44/50\n",
      "16/16 [==============================] - 13s 787ms/step - loss: 0.1307 - accuracy: 0.9548 - val_loss: 0.0290 - val_accuracy: 0.9961\n",
      "Epoch 45/50\n",
      "16/16 [==============================] - 12s 758ms/step - loss: 0.1600 - accuracy: 0.9431 - val_loss: 0.0387 - val_accuracy: 0.9845\n",
      "Epoch 46/50\n",
      "16/16 [==============================] - 12s 756ms/step - loss: 0.1620 - accuracy: 0.9355 - val_loss: 0.0701 - val_accuracy: 0.9651\n",
      "Epoch 47/50\n",
      "16/16 [==============================] - 12s 735ms/step - loss: 0.1539 - accuracy: 0.9384 - val_loss: 0.0334 - val_accuracy: 0.9922\n",
      "Epoch 48/50\n",
      "16/16 [==============================] - 12s 724ms/step - loss: 0.1362 - accuracy: 0.9519 - val_loss: 0.0427 - val_accuracy: 0.9884\n",
      "Epoch 49/50\n",
      "16/16 [==============================] - 12s 730ms/step - loss: 0.1550 - accuracy: 0.9450 - val_loss: 0.0570 - val_accuracy: 0.9806\n",
      "Epoch 50/50\n",
      "16/16 [==============================] - 12s 740ms/step - loss: 0.1406 - accuracy: 0.9431 - val_loss: 0.0189 - val_accuracy: 0.9922\n"
     ]
    }
   ],
   "source": [
    "\"\"\"\n",
    "**Train the Model**\"\"\"\n",
    "epochs = 50\n",
    "batch_size=64\n",
    "model.compile(loss= 'categorical_crossentropy',optimizer='adam',metrics=['accuracy'])\n",
    "#fitted_model = model.fit(train_X,train_y,epochs = epochs,validation_split=0.25)\n",
    "fitted_model = model.fit(\n",
    "\taug.flow(train_X, train_y, batch_size=batch_size),\n",
    "\tsteps_per_epoch=len(train_X) // batch_size,\n",
    "\tvalidation_data=(test_X, test_y),\n",
    "\tvalidation_steps=len(test_X) // batch_size,\n",
    "\tepochs=epochs)"
   ]
  },
  {
   "cell_type": "code",
   "execution_count": 19,
   "metadata": {},
   "outputs": [
    {
     "name": "stdout",
     "output_type": "stream",
     "text": [
      "[INFO] evaluating your model on test dataset...\n",
      "Classification report of your model...\n",
      "              precision    recall  f1-score   support\n",
      "\n",
      "   with_mask       0.98      0.97      0.98       169\n",
      "without_mask       0.97      0.98      0.98       175\n",
      "\n",
      "    accuracy                           0.98       344\n",
      "   macro avg       0.98      0.98      0.98       344\n",
      "weighted avg       0.98      0.98      0.98       344\n",
      "\n"
     ]
    }
   ],
   "source": [
    "# make predictions on the testing set\n",
    "\n",
    "print(\"[INFO] evaluating your model on test dataset...\")\n",
    "predIdxs = model.predict(test_X, batch_size=batch_size)\n",
    "\n",
    "# for each image in the testing set we need to find the index of the\n",
    "# label with corresponding largest predicted probability\n",
    "predIdxs = np.argmax(predIdxs, axis=1)\n",
    "\n",
    "# show a nicely formatted classification report\n",
    "print(\"Classification report of your model...\")\n",
    "\n",
    "print(classification_report(test_y.argmax(axis=1), predIdxs,\n",
    "\ttarget_names=lb.classes_))"
   ]
  },
  {
   "cell_type": "code",
   "execution_count": 17,
   "metadata": {},
   "outputs": [
    {
     "data": {
      "text/plain": [
       "<matplotlib.legend.Legend at 0x1c017f17388>"
      ]
     },
     "execution_count": 17,
     "metadata": {},
     "output_type": "execute_result"
    },
    {
     "data": {
      "image/png": "[encoded data removed]",
      "text/plain": [
       "<Figure size 432x288 with 1 Axes>"
      ]
     },
     "metadata": {},
     "output_type": "display_data"
    }
   ],
   "source": [
    "# plot the training loss and accuracy\n",
    "import matplotlib.pyplot as plt\n",
    "N = epochs\n",
    "plt.style.use(\"ggplot\")\n",
    "plt.figure()\n",
    "plt.plot(np.arange(0, N), fitted_model.history[\"loss\"], label=\"train_loss\")\n",
    "plt.plot(np.arange(0, N), fitted_model.history[\"val_loss\"], label=\"val_loss\")\n",
    "plt.plot(np.arange(0, N), fitted_model.history[\"accuracy\"], label=\"train_acc\")\n",
    "plt.plot(np.arange(0, N), fitted_model.history[\"val_accuracy\"], label=\"val_acc\")\n",
    "plt.title(\"Training Loss and Accuracy\")\n",
    "plt.xlabel(\"Epoch #\")\n",
    "plt.ylabel(\"Loss/Accuracy\")\n",
    "plt.legend(loc=\"lower left\")\n"
   ]
  },
  {
   "cell_type": "code",
   "execution_count": null,
   "metadata": {},
   "outputs": [],
   "source": []
  }
 ],
 "metadata": {
  "kernelspec": {
   "display_name": "Python 3",
   "language": "python",
   "name": "python3"
  },
  "language_info": {
   "codemirror_mode": {
    "name": "ipython",
    "version": 3
   },
   "file_extension": ".py",
   "mimetype": "text/x-python",
   "name": "python",
   "nbconvert_exporter": "python",
   "pygments_lexer": "ipython3",
   "version": "3.7.6"
  }
 },
 "nbformat": 4,
 "nbformat_minor": 4
}
