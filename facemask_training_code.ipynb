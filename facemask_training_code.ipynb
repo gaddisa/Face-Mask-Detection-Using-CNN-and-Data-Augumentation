{
 "cells": [
  {
   "cell_type": "code",
   "execution_count": 1,
   "metadata": {},
   "outputs": [],
   "source": [
    "import os\n",
    "import cv2\n",
    "import numpy as np\n",
    "from tensorflow.keras.utils import to_categorical\n",
    "from sklearn.preprocessing import LabelBinarizer\n",
    "from sklearn.model_selection import train_test_split\n",
    "from keras.models import Sequential\n",
    "from keras.layers import Dense,Activation,Flatten,Dropout\n",
    "from keras.layers import Conv2D,MaxPooling2D"
   ]
  },
  {
   "cell_type": "code",
   "execution_count": 2,
   "metadata": {},
   "outputs": [
    {
     "name": "stdout",
     "output_type": "stream",
     "text": [
      "['without_mask', 'with_mask']\n"
     ]
    }
   ],
   "source": [
    "#setting directory path for dataset\n",
    "Dataset = \"data\"\n",
    "Data_dir = os.listdir(Dataset)\n",
    "print(Data_dir)"
   ]
  },
  {
   "cell_type": "code",
   "execution_count": 3,
   "metadata": {},
   "outputs": [],
   "source": [
    "#data preprocessing\n",
    "img_rows,img_cols = 112,112\n",
    "\n",
    "images = []\n",
    "labels = [] \n",
    "\n",
    "for category in Data_dir:\n",
    "  folder_path = os.path.join(Dataset,category)\n",
    "  for img in os.listdir(folder_path):\n",
    "    img_path = os.path.join(folder_path,img)\n",
    "    img = cv2.imread(img_path)\n",
    "\n",
    "    try:\n",
    "      #converting image into gray scale\n",
    "      grayscale_img = cv2.cvtColor(img,cv2.COLOR_BGR2GRAY)\n",
    "\n",
    "      #resizing gray scaled image into size 56x56\n",
    "      resized_img =  cv2.resize(grayscale_img,(img_rows,img_cols))\n",
    "      images.append(resized_img)\n",
    "      labels.append(category)\n",
    "    #Exception Handling\n",
    "    except Exception as e:\n",
    "      print(\"Exception Details : \" + e)\n",
    "images = np.array(images) /255.0\n",
    "images = np.reshape(images,(images.shape[0],img_rows,img_cols,1))\n",
    "\n",
    "#performing one hot encoding\n",
    "lb = LabelBinarizer() \n",
    "labels = lb.fit_transform(labels)\n",
    "labels = to_categorical(labels)\n",
    "labels = np.array(labels)\n",
    "\n",
    "(train_X,test_X,train_y,test_y) = train_test_split(images,labels,test_size = 0.25,random_state= 0)"
   ]
  },
  {
   "cell_type": "code",
   "execution_count": 4,
   "metadata": {},
   "outputs": [
    {
     "name": "stdout",
     "output_type": "stream",
     "text": [
      "Model: \"sequential\"\n",
      "_________________________________________________________________\n",
      "Layer (type)                 Output Shape              Param #   \n",
      "=================================================================\n",
      "conv2d (Conv2D)              (None, 110, 110, 64)      640       \n",
      "_________________________________________________________________\n",
      "activation (Activation)      (None, 110, 110, 64)      0         \n",
      "_________________________________________________________________\n",
      "max_pooling2d (MaxPooling2D) (None, 55, 55, 64)        0         \n",
      "_________________________________________________________________\n",
      "conv2d_1 (Conv2D)            (None, 53, 53, 128)       73856     \n",
      "_________________________________________________________________\n",
      "activation_1 (Activation)    (None, 53, 53, 128)       0         \n",
      "_________________________________________________________________\n",
      "max_pooling2d_1 (MaxPooling2 (None, 26, 26, 128)       0         \n",
      "_________________________________________________________________\n",
      "flatten (Flatten)            (None, 86528)             0         \n",
      "_________________________________________________________________\n",
      "dropout (Dropout)            (None, 86528)             0         \n",
      "_________________________________________________________________\n",
      "dense (Dense)                (None, 64)                5537856   \n",
      "_________________________________________________________________\n",
      "dense_1 (Dense)              (None, 2)                 130       \n",
      "=================================================================\n",
      "Total params: 5,612,482\n",
      "Trainable params: 5,612,482\n",
      "Non-trainable params: 0\n",
      "_________________________________________________________________\n",
      "None\n"
     ]
    }
   ],
   "source": [
    "#Building CNN model via Sequential API\n",
    "num_classes = 2\n",
    "batch_size = 32\n",
    "model = Sequential()\n",
    "\n",
    "#First Layer\n",
    "model.add(Conv2D(64,(3,3), input_shape = (img_rows,img_cols,1)))\n",
    "model.add(Activation('relu'))\n",
    "model.add(MaxPooling2D(pool_size = (2,2)))\n",
    "\n",
    "#Second Layer\n",
    "model.add(Conv2D(128,(3,3)))\n",
    "model.add(Activation('relu'))\n",
    "model.add(MaxPooling2D(pool_size = (2,2)))\n",
    "\n",
    "#Flatten and Dropout Layer\n",
    "model.add(Flatten())\n",
    "model.add(Dropout(0.5))\n",
    "\n",
    "#Softmax Classifier\n",
    "model.add(Dense(64,activation = \"relu\"))\n",
    "model.add(Dense(num_classes,activation= \"softmax\"))\n",
    "\n",
    "print(model.summary())\n"
   ]
  },
  {
   "cell_type": "code",
   "execution_count": 5,
   "metadata": {},
   "outputs": [
    {
     "name": "stdout",
     "output_type": "stream",
     "text": [
      "Epoch 1/50\n",
      "25/25 [==============================] - 24s 365ms/step - loss: 1.0397 - accuracy: 0.4627 - val_loss: 0.6667 - val_accuracy: 0.6124\n",
      "Epoch 2/50\n",
      "25/25 [==============================] - 9s 353ms/step - loss: 0.6179 - accuracy: 0.7177 - val_loss: 0.4982 - val_accuracy: 0.7403\n",
      "Epoch 3/50\n",
      "25/25 [==============================] - 9s 359ms/step - loss: 0.4308 - accuracy: 0.8252 - val_loss: 0.3472 - val_accuracy: 0.8450\n",
      "Epoch 4/50\n",
      "25/25 [==============================] - 10s 385ms/step - loss: 0.3196 - accuracy: 0.8594 - val_loss: 0.3069 - val_accuracy: 0.8605\n",
      "Epoch 5/50\n",
      "25/25 [==============================] - 10s 388ms/step - loss: 0.2399 - accuracy: 0.9180 - val_loss: 0.2353 - val_accuracy: 0.8992\n",
      "Epoch 6/50\n",
      "25/25 [==============================] - 10s 384ms/step - loss: 0.1572 - accuracy: 0.9413 - val_loss: 0.2280 - val_accuracy: 0.9109\n",
      "Epoch 7/50\n",
      "25/25 [==============================] - 9s 371ms/step - loss: 0.1332 - accuracy: 0.9525 - val_loss: 0.2152 - val_accuracy: 0.9147\n",
      "Epoch 8/50\n",
      "25/25 [==============================] - 9s 374ms/step - loss: 0.1190 - accuracy: 0.9646 - val_loss: 0.2458 - val_accuracy: 0.9031\n",
      "Epoch 9/50\n",
      "25/25 [==============================] - 9s 377ms/step - loss: 0.1319 - accuracy: 0.9491 - val_loss: 0.2116 - val_accuracy: 0.9264\n",
      "Epoch 10/50\n",
      "25/25 [==============================] - 9s 380ms/step - loss: 0.0852 - accuracy: 0.9735 - val_loss: 0.2643 - val_accuracy: 0.9147\n",
      "Epoch 11/50\n",
      "25/25 [==============================] - 9s 378ms/step - loss: 0.0745 - accuracy: 0.9730 - val_loss: 0.2062 - val_accuracy: 0.9225\n",
      "Epoch 12/50\n",
      "25/25 [==============================] - 9s 378ms/step - loss: 0.0681 - accuracy: 0.9738 - val_loss: 0.1987 - val_accuracy: 0.9302\n",
      "Epoch 13/50\n",
      "25/25 [==============================] - 10s 386ms/step - loss: 0.0636 - accuracy: 0.9763 - val_loss: 0.2057 - val_accuracy: 0.9341\n",
      "Epoch 14/50\n",
      "25/25 [==============================] - 9s 380ms/step - loss: 0.0381 - accuracy: 0.9917 - val_loss: 0.1940 - val_accuracy: 0.9341\n",
      "Epoch 15/50\n",
      "25/25 [==============================] - 10s 382ms/step - loss: 0.0322 - accuracy: 0.9891 - val_loss: 0.3104 - val_accuracy: 0.9109\n",
      "Epoch 16/50\n",
      "25/25 [==============================] - 10s 382ms/step - loss: 0.0571 - accuracy: 0.9778 - val_loss: 0.2078 - val_accuracy: 0.9225\n",
      "Epoch 17/50\n",
      "25/25 [==============================] - 10s 382ms/step - loss: 0.0863 - accuracy: 0.9733 - val_loss: 0.2504 - val_accuracy: 0.9031\n",
      "Epoch 18/50\n",
      "25/25 [==============================] - 10s 382ms/step - loss: 0.0882 - accuracy: 0.9795 - val_loss: 0.2505 - val_accuracy: 0.9264\n",
      "Epoch 19/50\n",
      "25/25 [==============================] - 10s 383ms/step - loss: 0.0340 - accuracy: 0.9906 - val_loss: 0.2175 - val_accuracy: 0.9264\n",
      "Epoch 20/50\n",
      "25/25 [==============================] - 10s 383ms/step - loss: 0.0135 - accuracy: 0.9955 - val_loss: 0.2440 - val_accuracy: 0.9264\n",
      "Epoch 21/50\n",
      "25/25 [==============================] - 10s 382ms/step - loss: 0.0293 - accuracy: 0.9886 - val_loss: 0.3535 - val_accuracy: 0.9225\n",
      "Epoch 22/50\n",
      "25/25 [==============================] - 10s 388ms/step - loss: 0.1167 - accuracy: 0.9611 - val_loss: 0.2725 - val_accuracy: 0.9031\n",
      "Epoch 23/50\n",
      "25/25 [==============================] - 10s 385ms/step - loss: 0.0570 - accuracy: 0.9709 - val_loss: 0.2698 - val_accuracy: 0.9186\n",
      "Epoch 24/50\n",
      "25/25 [==============================] - 10s 384ms/step - loss: 0.0391 - accuracy: 0.9848 - val_loss: 0.2124 - val_accuracy: 0.9380\n",
      "Epoch 25/50\n",
      "25/25 [==============================] - 10s 394ms/step - loss: 0.0161 - accuracy: 0.9963 - val_loss: 0.2506 - val_accuracy: 0.9302\n",
      "Epoch 26/50\n",
      "25/25 [==============================] - 10s 389ms/step - loss: 0.0167 - accuracy: 0.9971 - val_loss: 0.2278 - val_accuracy: 0.9264\n",
      "Epoch 27/50\n",
      "25/25 [==============================] - 10s 386ms/step - loss: 0.0099 - accuracy: 0.9980 - val_loss: 0.2807 - val_accuracy: 0.9264\n",
      "Epoch 28/50\n",
      "25/25 [==============================] - 10s 386ms/step - loss: 0.0212 - accuracy: 0.9956 - val_loss: 0.2309 - val_accuracy: 0.9380\n",
      "Epoch 29/50\n",
      "25/25 [==============================] - 10s 385ms/step - loss: 0.0136 - accuracy: 0.9929 - val_loss: 0.2311 - val_accuracy: 0.9264\n",
      "Epoch 30/50\n",
      "25/25 [==============================] - 10s 385ms/step - loss: 0.0063 - accuracy: 1.0000 - val_loss: 0.2569 - val_accuracy: 0.9302\n",
      "Epoch 31/50\n",
      "25/25 [==============================] - 10s 385ms/step - loss: 0.0029 - accuracy: 0.9998 - val_loss: 0.2597 - val_accuracy: 0.9302\n",
      "Epoch 32/50\n",
      "25/25 [==============================] - 10s 386ms/step - loss: 0.0071 - accuracy: 0.9994 - val_loss: 0.2517 - val_accuracy: 0.9264\n",
      "Epoch 33/50\n",
      "25/25 [==============================] - 10s 387ms/step - loss: 0.0087 - accuracy: 0.9995 - val_loss: 0.2532 - val_accuracy: 0.9341\n",
      "Epoch 34/50\n",
      "25/25 [==============================] - 10s 388ms/step - loss: 0.0053 - accuracy: 0.9988 - val_loss: 0.2054 - val_accuracy: 0.9457\n",
      "Epoch 35/50\n",
      "25/25 [==============================] - 10s 387ms/step - loss: 0.0342 - accuracy: 0.9886 - val_loss: 0.2333 - val_accuracy: 0.9302\n",
      "Epoch 36/50\n",
      "25/25 [==============================] - 10s 387ms/step - loss: 0.0215 - accuracy: 0.9952 - val_loss: 0.2088 - val_accuracy: 0.9419\n",
      "Epoch 37/50\n",
      "25/25 [==============================] - 10s 388ms/step - loss: 0.0108 - accuracy: 0.9945 - val_loss: 0.2391 - val_accuracy: 0.9302\n",
      "Epoch 38/50\n",
      "25/25 [==============================] - 10s 390ms/step - loss: 0.0067 - accuracy: 1.0000 - val_loss: 0.2375 - val_accuracy: 0.9380\n",
      "Epoch 39/50\n",
      "25/25 [==============================] - 10s 389ms/step - loss: 0.0036 - accuracy: 0.9990 - val_loss: 0.2277 - val_accuracy: 0.9419\n",
      "Epoch 40/50\n",
      "25/25 [==============================] - 10s 389ms/step - loss: 0.0059 - accuracy: 0.9998 - val_loss: 0.2400 - val_accuracy: 0.9419\n",
      "Epoch 41/50\n",
      "25/25 [==============================] - 10s 391ms/step - loss: 0.0058 - accuracy: 0.9992 - val_loss: 0.2440 - val_accuracy: 0.9380\n",
      "Epoch 42/50\n",
      "25/25 [==============================] - 10s 391ms/step - loss: 0.0023 - accuracy: 0.9997 - val_loss: 0.2392 - val_accuracy: 0.9457\n",
      "Epoch 43/50\n",
      "25/25 [==============================] - 10s 404ms/step - loss: 0.0042 - accuracy: 0.9981 - val_loss: 0.2223 - val_accuracy: 0.9380\n",
      "Epoch 44/50\n",
      "25/25 [==============================] - 10s 393ms/step - loss: 0.0072 - accuracy: 0.9983 - val_loss: 0.2101 - val_accuracy: 0.9457\n",
      "Epoch 45/50\n",
      "25/25 [==============================] - 10s 393ms/step - loss: 0.0049 - accuracy: 0.9993 - val_loss: 0.2424 - val_accuracy: 0.9496\n",
      "Epoch 46/50\n",
      "25/25 [==============================] - 10s 411ms/step - loss: 0.0076 - accuracy: 0.9976 - val_loss: 0.2442 - val_accuracy: 0.9496\n",
      "Epoch 47/50\n",
      "25/25 [==============================] - 11s 462ms/step - loss: 0.0019 - accuracy: 0.9999 - val_loss: 0.2469 - val_accuracy: 0.9574\n",
      "Epoch 48/50\n",
      "25/25 [==============================] - 11s 450ms/step - loss: 0.0014 - accuracy: 1.0000 - val_loss: 0.2346 - val_accuracy: 0.9535\n",
      "Epoch 49/50\n",
      "25/25 [==============================] - 11s 418ms/step - loss: 0.0051 - accuracy: 0.9992 - val_loss: 0.2409 - val_accuracy: 0.9535\n",
      "Epoch 50/50\n",
      "25/25 [==============================] - 10s 392ms/step - loss: 0.0058 - accuracy: 0.9980 - val_loss: 0.2956 - val_accuracy: 0.9496\n"
     ]
    }
   ],
   "source": [
    "\"\"\"\n",
    "**Train the Model**\"\"\"\n",
    "epochs = 50\n",
    "\n",
    "model.compile(loss= 'categorical_crossentropy',optimizer='adam',metrics=['accuracy'])\n",
    "history=model.fit(train_X,train_y,epochs = epochs,validation_split=0.25)\n"
   ]
  },
  {
   "cell_type": "code",
   "execution_count": 6,
   "metadata": {},
   "outputs": [
    {
     "data": {
      "image/png": "[encoded data removed]",
      "text/plain": [
       "<Figure size 432x288 with 1 Axes>"
      ]
     },
     "metadata": {
      "needs_background": "light"
     },
     "output_type": "display_data"
    },
    {
     "data": {
      "image/png": "[encoded data removed]",
      "text/plain": [
       "<Figure size 432x288 with 1 Axes>"
      ]
     },
     "metadata": {
      "needs_background": "light"
     },
     "output_type": "display_data"
    }
   ],
   "source": [
    "\"\"\"\n",
    "**Plot the training loss and accuracy**\n",
    "\"\"\"\n",
    "import matplotlib.pyplot as plt\n",
    "plt.plot(history.history['loss'],'r',label = \"Training  Loss\")\n",
    "plt.plot(history.history['val_loss'],label = \"Validation Loss\")\n",
    "plt.xlabel(\"# of Epochs\")\n",
    "plt.ylabel(\"Loss Value\")\n",
    "plt.legend()\n",
    "plt.show()\n",
    "\n",
    "#Plotting Accuracy\n",
    "plt.plot(history.history['accuracy'],'r',label = \"Training Accuracy\")\n",
    "plt.plot(history.history['val_accuracy'],label = \"Validation Accuracy\")\n",
    "plt.xlabel(\"# of Epochs\")\n",
    "plt.ylabel(\"Accuracy Value\")\n",
    "plt.legend()\n",
    "plt.show()"
   ]
  },
  {
   "cell_type": "code",
   "execution_count": 7,
   "metadata": {},
   "outputs": [],
   "source": [
    "\"\"\"\n",
    "Save the model\n",
    "\"\"\"\n",
    "model.save(\"New_Face_Mask_Model.h5\")"
   ]
  },
  {
   "cell_type": "code",
   "execution_count": null,
   "metadata": {},
   "outputs": [],
   "source": []
  }
 ],
 "metadata": {
  "kernelspec": {
   "display_name": "Python 3",
   "language": "python",
   "name": "python3"
  },
  "language_info": {
   "codemirror_mode": {
    "name": "ipython",
    "version": 3
   },
   "file_extension": ".py",
   "mimetype": "text/x-python",
   "name": "python",
   "nbconvert_exporter": "python",
   "pygments_lexer": "ipython3",
   "version": "3.7.6"
  }
 },
 "nbformat": 4,
 "nbformat_minor": 4
}
